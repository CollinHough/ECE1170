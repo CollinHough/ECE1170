{
 "cells": [
  {
   "cell_type": "code",
   "execution_count": 1,
   "metadata": {},
   "outputs": [],
   "source": [
    "import sys\n",
    "sys.path.insert(1,'../models')\n",
    "sys.path.insert(2,'../features')\n",
    "import create_model\n",
    "import build_features\n",
    "import pandas as pd\n",
    "import numpy as np\n",
    "import math\n",
    "import statistics\n",
    "import csv\n",
    "from sklearn.metrics import mean_squared_error"
   ]
  },
  {
   "cell_type": "code",
   "execution_count": 2,
   "metadata": {},
   "outputs": [
    {
     "data": {
      "text/html": [
       "<div>\n",
       "<style scoped>\n",
       "    .dataframe tbody tr th:only-of-type {\n",
       "        vertical-align: middle;\n",
       "    }\n",
       "\n",
       "    .dataframe tbody tr th {\n",
       "        vertical-align: top;\n",
       "    }\n",
       "\n",
       "    .dataframe thead th {\n",
       "        text-align: right;\n",
       "    }\n",
       "</style>\n",
       "<table border=\"1\" class=\"dataframe\">\n",
       "  <thead>\n",
       "    <tr style=\"text-align: right;\">\n",
       "      <th></th>\n",
       "      <th>Unnamed: 0</th>\n",
       "      <th>id</th>\n",
       "      <th>Player</th>\n",
       "      <th>Age</th>\n",
       "      <th>Pos</th>\n",
       "      <th>G</th>\n",
       "      <th>GS</th>\n",
       "      <th>Tgt</th>\n",
       "      <th>Rec</th>\n",
       "      <th>Ctch%</th>\n",
       "      <th>Yds</th>\n",
       "      <th>Y/R</th>\n",
       "      <th>TD</th>\n",
       "      <th>Lng</th>\n",
       "      <th>Y/Tgt</th>\n",
       "      <th>R/G</th>\n",
       "      <th>Y/G</th>\n",
       "      <th>Fmb</th>\n",
       "      <th>TD/G</th>\n",
       "    </tr>\n",
       "  </thead>\n",
       "  <tbody>\n",
       "    <tr>\n",
       "      <th>0</th>\n",
       "      <td>0</td>\n",
       "      <td>AbduAm00</td>\n",
       "      <td>Ameer Abdullah</td>\n",
       "      <td>22</td>\n",
       "      <td>RB</td>\n",
       "      <td>16</td>\n",
       "      <td>9</td>\n",
       "      <td>38.0</td>\n",
       "      <td>25</td>\n",
       "      <td>65.8%</td>\n",
       "      <td>183</td>\n",
       "      <td>7.3</td>\n",
       "      <td>1</td>\n",
       "      <td>36</td>\n",
       "      <td>4.8</td>\n",
       "      <td>1.6</td>\n",
       "      <td>11.4</td>\n",
       "      <td>5.0</td>\n",
       "      <td>0.1</td>\n",
       "    </tr>\n",
       "    <tr>\n",
       "      <th>1</th>\n",
       "      <td>1</td>\n",
       "      <td>AbduAm00</td>\n",
       "      <td>Ameer Abdullah</td>\n",
       "      <td>23</td>\n",
       "      <td>RB</td>\n",
       "      <td>2</td>\n",
       "      <td>2</td>\n",
       "      <td>5.0</td>\n",
       "      <td>5</td>\n",
       "      <td>100.0%</td>\n",
       "      <td>57</td>\n",
       "      <td>11.4</td>\n",
       "      <td>1</td>\n",
       "      <td>18</td>\n",
       "      <td>11.4</td>\n",
       "      <td>2.5</td>\n",
       "      <td>28.5</td>\n",
       "      <td>0.0</td>\n",
       "      <td>0.5</td>\n",
       "    </tr>\n",
       "    <tr>\n",
       "      <th>2</th>\n",
       "      <td>2</td>\n",
       "      <td>AbduAm00</td>\n",
       "      <td>Ameer Abdullah</td>\n",
       "      <td>24</td>\n",
       "      <td>RB</td>\n",
       "      <td>14</td>\n",
       "      <td>11</td>\n",
       "      <td>35.0</td>\n",
       "      <td>25</td>\n",
       "      <td>71.4%</td>\n",
       "      <td>162</td>\n",
       "      <td>6.5</td>\n",
       "      <td>1</td>\n",
       "      <td>22</td>\n",
       "      <td>4.6</td>\n",
       "      <td>1.8</td>\n",
       "      <td>11.6</td>\n",
       "      <td>2.0</td>\n",
       "      <td>0.1</td>\n",
       "    </tr>\n",
       "    <tr>\n",
       "      <th>3</th>\n",
       "      <td>3</td>\n",
       "      <td>AbduAm00</td>\n",
       "      <td>Ameer Abdullah</td>\n",
       "      <td>25</td>\n",
       "      <td>RB</td>\n",
       "      <td>10</td>\n",
       "      <td>0</td>\n",
       "      <td>4.0</td>\n",
       "      <td>3</td>\n",
       "      <td>75.0%</td>\n",
       "      <td>28</td>\n",
       "      <td>9.3</td>\n",
       "      <td>0</td>\n",
       "      <td>12</td>\n",
       "      <td>7.0</td>\n",
       "      <td>0.3</td>\n",
       "      <td>2.8</td>\n",
       "      <td>1.0</td>\n",
       "      <td>0.0</td>\n",
       "    </tr>\n",
       "    <tr>\n",
       "      <th>4</th>\n",
       "      <td>4</td>\n",
       "      <td>AbduAm00</td>\n",
       "      <td>Ameer Abdullah</td>\n",
       "      <td>26</td>\n",
       "      <td>RB</td>\n",
       "      <td>16</td>\n",
       "      <td>0</td>\n",
       "      <td>21.0</td>\n",
       "      <td>15</td>\n",
       "      <td>71.4%</td>\n",
       "      <td>88</td>\n",
       "      <td>5.9</td>\n",
       "      <td>1</td>\n",
       "      <td>16</td>\n",
       "      <td>4.2</td>\n",
       "      <td>0.9</td>\n",
       "      <td>5.5</td>\n",
       "      <td>1.0</td>\n",
       "      <td>0.1</td>\n",
       "    </tr>\n",
       "  </tbody>\n",
       "</table>\n",
       "</div>"
      ],
      "text/plain": [
       "   Unnamed: 0        id          Player  Age Pos   G  GS   Tgt  Rec   Ctch%  \\\n",
       "0           0  AbduAm00  Ameer Abdullah   22  RB  16   9  38.0   25   65.8%   \n",
       "1           1  AbduAm00  Ameer Abdullah   23  RB   2   2   5.0    5  100.0%   \n",
       "2           2  AbduAm00  Ameer Abdullah   24  RB  14  11  35.0   25   71.4%   \n",
       "3           3  AbduAm00  Ameer Abdullah   25  RB  10   0   4.0    3   75.0%   \n",
       "4           4  AbduAm00  Ameer Abdullah   26  RB  16   0  21.0   15   71.4%   \n",
       "\n",
       "   Yds   Y/R  TD  Lng  Y/Tgt  R/G   Y/G  Fmb  TD/G  \n",
       "0  183   7.3   1   36    4.8  1.6  11.4  5.0   0.1  \n",
       "1   57  11.4   1   18   11.4  2.5  28.5  0.0   0.5  \n",
       "2  162   6.5   1   22    4.6  1.8  11.6  2.0   0.1  \n",
       "3   28   9.3   0   12    7.0  0.3   2.8  1.0   0.0  \n",
       "4   88   5.9   1   16    4.2  0.9   5.5  1.0   0.1  "
      ]
     },
     "execution_count": 2,
     "metadata": {},
     "output_type": "execute_result"
    }
   ],
   "source": [
    "data = pd.read_csv(\"../../data/processed/receiving.csv\")\n",
    "data.head()"
   ]
  },
  {
   "cell_type": "code",
   "execution_count": 3,
   "metadata": {},
   "outputs": [],
   "source": [
    "# Get all player ids\n",
    "players = data.id.unique()"
   ]
  },
  {
   "cell_type": "code",
   "execution_count": 4,
   "metadata": {
    "scrolled": true
   },
   "outputs": [],
   "source": [
    "# For each receiver\n",
    "offense_type = \"receiving\"\n",
    "yards_error = []\n",
    "td_error = []\n",
    "non_rookies = []\n",
    "yards = []\n",
    "tds = []\n",
    "for player in players:\n",
    "    # Get their career data\n",
    "    career_data = build_features.get_model_data(offense_type,player)\n",
    "    if isinstance(career_data,str):\n",
    "        continue\n",
    "    non_rookies.append(player)\n",
    "    \n",
    "    # Split data into training and testing data\n",
    "    numberOfYears = len(career_data.index)\n",
    "    training_data = career_data.iloc[0:numberOfYears-1]\n",
    "    testing_data = career_data.iloc[numberOfYears-1]\n",
    "    \n",
    "    # Prepare training data\n",
    "    X_train = training_data[[\"G\",\"Tgt\",\"Rec\",\"Y/R\",\"R/G\",\"Y/G\",\"TD/G\"]]\n",
    "    y_train = training_data[[\"Yds\",\"TD\"]]\n",
    "    \n",
    "    # Prepare testing data\n",
    "    X_test = testing_data[[\"G\",\"Tgt\",\"Rec\",\"Y/R\",\"R/G\",\"Y/G\",\"TD/G\"]]\n",
    "    X_test = np.asarray(X_test)\n",
    "    X_test = X_test.reshape(-1,7)\n",
    "    \n",
    "    y_test = testing_data[[\"Yds\",\"TD\"]]\n",
    "    y_test = np.asarray(y_test)\n",
    "    y_test = y_test.reshape(-1,2)\n",
    "    \n",
    "    mdl = create_model.create_model(X_train,y_train)\n",
    "    \n",
    "    # Make prediction on model\n",
    "    y_pred = mdl.predict(X_test)\n",
    "    yards.append(y_pred[0][0])\n",
    "    tds.append(y_pred[0][1])\n",
    "    \n",
    "    try:\n",
    "        yards_error.append((abs(math.floor(round(y_pred[0][0]) - y_test[0][0]))/math.floor(y_test[0][0]))*100)\n",
    "    except ZeroDivisionError:\n",
    "        yards_error.append(0)\n",
    "    \n",
    "    try:\n",
    "        td_error.append((abs(math.floor(round(y_pred[0][1]) - y_test[0][1]))/math.floor(y_test[0][1]))*100)\n",
    "    except ZeroDivisionError:\n",
    "        td_error.append(0)\n",
    "    "
   ]
  },
  {
   "cell_type": "code",
   "execution_count": 5,
   "metadata": {},
   "outputs": [
    {
     "name": "stdout",
     "output_type": "stream",
     "text": [
      "45.97720606116643\n"
     ]
    }
   ],
   "source": [
    "print(statistics.mean(yards_error))"
   ]
  },
  {
   "cell_type": "code",
   "execution_count": 6,
   "metadata": {},
   "outputs": [
    {
     "name": "stdout",
     "output_type": "stream",
     "text": [
      "103.89639482381418\n"
     ]
    }
   ],
   "source": [
    "print(statistics.mean(td_error))"
   ]
  },
  {
   "cell_type": "code",
   "execution_count": 7,
   "metadata": {},
   "outputs": [],
   "source": [
    "filename = \"../../data/predictions/receiving.csv\"\n",
    "f = open(filename,'w')\n",
    "writer = csv.writer(f)\n",
    "for i in range(len(non_rookies)):\n",
    "    writer.writerow([non_rookies[i],yards[i],tds[i]])"
   ]
  },
  {
   "cell_type": "code",
   "execution_count": 9,
   "metadata": {},
   "outputs": [],
   "source": [
    "# Write data to csv file for further processing\n",
    "filename = \"../../data/predictions/error_receiving.csv\"\n",
    "f = open(filename,'w')\n",
    "writer = csv.writer(f)\n",
    "for i in range(len(non_rookies)):\n",
    "    writer.writerow([non_rookies[i],yards_error[i],td_error[i]])"
   ]
  },
  {
   "cell_type": "code",
   "execution_count": null,
   "metadata": {},
   "outputs": [],
   "source": []
  }
 ],
 "metadata": {
  "kernelspec": {
   "display_name": "Python 3 (ipykernel)",
   "language": "python",
   "name": "python3"
  },
  "language_info": {
   "codemirror_mode": {
    "name": "ipython",
    "version": 3
   },
   "file_extension": ".py",
   "mimetype": "text/x-python",
   "name": "python",
   "nbconvert_exporter": "python",
   "pygments_lexer": "ipython3",
   "version": "3.9.7"
  },
  "vscode": {
   "interpreter": {
    "hash": "1a1af0ee75eeea9e2e1ee996c87e7a2b11a0bebd85af04bb136d915cefc0abce"
   }
  }
 },
 "nbformat": 4,
 "nbformat_minor": 2
}
