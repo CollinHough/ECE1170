{
 "cells": [
  {
   "cell_type": "code",
   "execution_count": 1,
   "metadata": {},
   "outputs": [],
   "source": [
    "import sys\n",
    "sys.path.insert(1,'../models')\n",
    "sys.path.insert(2,'../features')\n",
    "import create_model\n",
    "import build_features\n",
    "import pandas as pd\n",
    "import numpy as np\n",
    "import math\n",
    "import statistics\n",
    "import csv\n",
    "from sklearn.metrics import mean_squared_error"
   ]
  },
  {
   "cell_type": "code",
   "execution_count": 2,
   "metadata": {},
   "outputs": [
    {
     "data": {
      "text/html": [
       "<div>\n",
       "<style scoped>\n",
       "    .dataframe tbody tr th:only-of-type {\n",
       "        vertical-align: middle;\n",
       "    }\n",
       "\n",
       "    .dataframe tbody tr th {\n",
       "        vertical-align: top;\n",
       "    }\n",
       "\n",
       "    .dataframe thead th {\n",
       "        text-align: right;\n",
       "    }\n",
       "</style>\n",
       "<table border=\"1\" class=\"dataframe\">\n",
       "  <thead>\n",
       "    <tr style=\"text-align: right;\">\n",
       "      <th></th>\n",
       "      <th>Unnamed: 0</th>\n",
       "      <th>id</th>\n",
       "      <th>Player</th>\n",
       "      <th>Age</th>\n",
       "      <th>Pos</th>\n",
       "      <th>G</th>\n",
       "      <th>GS</th>\n",
       "      <th>Att</th>\n",
       "      <th>Yds</th>\n",
       "      <th>TD</th>\n",
       "      <th>Lng</th>\n",
       "      <th>Y/A</th>\n",
       "      <th>Y/G</th>\n",
       "      <th>Fmb</th>\n",
       "      <th>TD/G</th>\n",
       "      <th>Att/G</th>\n",
       "    </tr>\n",
       "  </thead>\n",
       "  <tbody>\n",
       "    <tr>\n",
       "      <th>0</th>\n",
       "      <td>0</td>\n",
       "      <td>AbduAm00</td>\n",
       "      <td>Ameer Abdullah</td>\n",
       "      <td>22</td>\n",
       "      <td>RB</td>\n",
       "      <td>16</td>\n",
       "      <td>9</td>\n",
       "      <td>143</td>\n",
       "      <td>597</td>\n",
       "      <td>2</td>\n",
       "      <td>36</td>\n",
       "      <td>4.2</td>\n",
       "      <td>37.3</td>\n",
       "      <td>5</td>\n",
       "      <td>0.1</td>\n",
       "      <td>8.9</td>\n",
       "    </tr>\n",
       "    <tr>\n",
       "      <th>1</th>\n",
       "      <td>1</td>\n",
       "      <td>AbduAm00</td>\n",
       "      <td>Ameer Abdullah</td>\n",
       "      <td>23</td>\n",
       "      <td>RB</td>\n",
       "      <td>2</td>\n",
       "      <td>2</td>\n",
       "      <td>18</td>\n",
       "      <td>101</td>\n",
       "      <td>0</td>\n",
       "      <td>24</td>\n",
       "      <td>5.6</td>\n",
       "      <td>50.5</td>\n",
       "      <td>0</td>\n",
       "      <td>0.0</td>\n",
       "      <td>9.0</td>\n",
       "    </tr>\n",
       "    <tr>\n",
       "      <th>2</th>\n",
       "      <td>2</td>\n",
       "      <td>AbduAm00</td>\n",
       "      <td>Ameer Abdullah</td>\n",
       "      <td>24</td>\n",
       "      <td>RB</td>\n",
       "      <td>14</td>\n",
       "      <td>11</td>\n",
       "      <td>165</td>\n",
       "      <td>552</td>\n",
       "      <td>4</td>\n",
       "      <td>34</td>\n",
       "      <td>3.3</td>\n",
       "      <td>39.4</td>\n",
       "      <td>2</td>\n",
       "      <td>0.3</td>\n",
       "      <td>11.8</td>\n",
       "    </tr>\n",
       "    <tr>\n",
       "      <th>3</th>\n",
       "      <td>3</td>\n",
       "      <td>AbduAm00</td>\n",
       "      <td>Ameer Abdullah</td>\n",
       "      <td>25</td>\n",
       "      <td>RB</td>\n",
       "      <td>10</td>\n",
       "      <td>0</td>\n",
       "      <td>1</td>\n",
       "      <td>1</td>\n",
       "      <td>0</td>\n",
       "      <td>1</td>\n",
       "      <td>1.0</td>\n",
       "      <td>0.1</td>\n",
       "      <td>1</td>\n",
       "      <td>0.0</td>\n",
       "      <td>0.1</td>\n",
       "    </tr>\n",
       "    <tr>\n",
       "      <th>4</th>\n",
       "      <td>4</td>\n",
       "      <td>AbduAm00</td>\n",
       "      <td>Ameer Abdullah</td>\n",
       "      <td>26</td>\n",
       "      <td>RB</td>\n",
       "      <td>16</td>\n",
       "      <td>0</td>\n",
       "      <td>23</td>\n",
       "      <td>115</td>\n",
       "      <td>0</td>\n",
       "      <td>15</td>\n",
       "      <td>5.0</td>\n",
       "      <td>7.2</td>\n",
       "      <td>1</td>\n",
       "      <td>0.0</td>\n",
       "      <td>1.4</td>\n",
       "    </tr>\n",
       "  </tbody>\n",
       "</table>\n",
       "</div>"
      ],
      "text/plain": [
       "   Unnamed: 0        id          Player  Age Pos   G  GS  Att  Yds  TD  Lng  \\\n",
       "0           0  AbduAm00  Ameer Abdullah   22  RB  16   9  143  597   2   36   \n",
       "1           1  AbduAm00  Ameer Abdullah   23  RB   2   2   18  101   0   24   \n",
       "2           2  AbduAm00  Ameer Abdullah   24  RB  14  11  165  552   4   34   \n",
       "3           3  AbduAm00  Ameer Abdullah   25  RB  10   0    1    1   0    1   \n",
       "4           4  AbduAm00  Ameer Abdullah   26  RB  16   0   23  115   0   15   \n",
       "\n",
       "   Y/A   Y/G  Fmb  TD/G  Att/G  \n",
       "0  4.2  37.3    5   0.1    8.9  \n",
       "1  5.6  50.5    0   0.0    9.0  \n",
       "2  3.3  39.4    2   0.3   11.8  \n",
       "3  1.0   0.1    1   0.0    0.1  \n",
       "4  5.0   7.2    1   0.0    1.4  "
      ]
     },
     "execution_count": 2,
     "metadata": {},
     "output_type": "execute_result"
    }
   ],
   "source": [
    "data = pd.read_csv(\"../../data/processed/rushing.csv\")\n",
    "data.head()"
   ]
  },
  {
   "cell_type": "code",
   "execution_count": 3,
   "metadata": {},
   "outputs": [],
   "source": [
    "# Get all player ids\n",
    "players = data.id.unique()"
   ]
  },
  {
   "cell_type": "code",
   "execution_count": 4,
   "metadata": {
    "scrolled": false
   },
   "outputs": [],
   "source": [
    "# For each rusher\n",
    "offense_type = \"rushing\"\n",
    "non_rookies = []\n",
    "yards_error = []\n",
    "td_error = []\n",
    "yards = []\n",
    "tds = []\n",
    "for player in players:\n",
    "    # Get their career data\n",
    "    career_data = build_features.get_model_data(offense_type,player)\n",
    "    if isinstance(career_data,str):\n",
    "        continue\n",
    "    non_rookies.append(player)\n",
    "    \n",
    "    # Split data into training and testing data\n",
    "    numberOfYears = len(career_data.index)\n",
    "    training_data = career_data.iloc[0:numberOfYears-1]\n",
    "    testing_data = career_data.iloc[numberOfYears-1]\n",
    "    \n",
    "    # Prepare training data\n",
    "    X_train = training_data[[\"GS\",\"Att\",\"Y/A\",\"Y/G\",\"TD/G\",\"Att/G\"]]\n",
    "    y_train = training_data[[\"Yds\",\"TD\"]]\n",
    "    \n",
    "    # Prepare testing data\n",
    "    X_test = testing_data[[\"GS\",\"Att\",\"Y/A\",\"Y/G\",\"TD/G\",\"Att/G\"]]\n",
    "    X_test = np.asarray(X_test)\n",
    "    X_test = X_test.reshape(-1,6)\n",
    "    \n",
    "    y_test = testing_data[[\"Yds\",\"TD\"]]\n",
    "    y_test = np.asarray(y_test)\n",
    "    y_test = y_test.reshape(-1,2)\n",
    "    \n",
    "    mdl = create_model.create_model(X_train,y_train)\n",
    "    \n",
    "    # Make prediction on model\n",
    "    y_pred = mdl.predict(X_test)\n",
    "    yards.append(y_pred[0][0])\n",
    "    tds.append(y_pred[0][1])\n",
    "    \n",
    "    try:\n",
    "        yards_error.append((abs(math.floor(round(y_pred[0][0]) - y_test[0][0]))/math.floor(y_test[0][0]))*100)\n",
    "    except ZeroDivisionError:\n",
    "        yards_error.append(0)\n",
    "    \n",
    "    try:\n",
    "        td_error.append((abs(math.floor(round(y_pred[0][1]) - y_test[0][1]))/math.floor(y_test[0][1]))*100)\n",
    "    except ZeroDivisionError:\n",
    "        td_error.append(0)\n",
    "    "
   ]
  },
  {
   "cell_type": "code",
   "execution_count": 5,
   "metadata": {},
   "outputs": [
    {
     "name": "stdout",
     "output_type": "stream",
     "text": [
      "14.552737923980185\n"
     ]
    }
   ],
   "source": [
    "print(statistics.mean(yards_error))"
   ]
  },
  {
   "cell_type": "code",
   "execution_count": 6,
   "metadata": {},
   "outputs": [
    {
     "name": "stdout",
     "output_type": "stream",
     "text": [
      "75.47337278106508\n"
     ]
    }
   ],
   "source": [
    "print(statistics.mean(td_error))"
   ]
  },
  {
   "cell_type": "code",
   "execution_count": 9,
   "metadata": {},
   "outputs": [],
   "source": [
    "filename = \"../../data/predictions/rushing.csv\"\n",
    "f = open(filename,'w')\n",
    "writer = csv.writer(f)\n",
    "for i in range(len(non_rookies)):\n",
    "    writer.writerow([non_rookies[i],yards[i],tds[i]])"
   ]
  },
  {
   "cell_type": "code",
   "execution_count": 10,
   "metadata": {},
   "outputs": [],
   "source": [
    "filename = \"../../data/predictions/error_rushing.csv\"\n",
    "f = open(filename,'w')\n",
    "writer = csv.writer(f)\n",
    "for i in range(len(non_rookies)):\n",
    "    writer.writerow([non_rookies[i],yards_error[i],td_error[i]])"
   ]
  },
  {
   "cell_type": "code",
   "execution_count": null,
   "metadata": {},
   "outputs": [],
   "source": []
  }
 ],
 "metadata": {
  "kernelspec": {
   "display_name": "Python 3 (ipykernel)",
   "language": "python",
   "name": "python3"
  },
  "language_info": {
   "codemirror_mode": {
    "name": "ipython",
    "version": 3
   },
   "file_extension": ".py",
   "mimetype": "text/x-python",
   "name": "python",
   "nbconvert_exporter": "python",
   "pygments_lexer": "ipython3",
   "version": "3.9.7"
  },
  "vscode": {
   "interpreter": {
    "hash": "1a1af0ee75eeea9e2e1ee996c87e7a2b11a0bebd85af04bb136d915cefc0abce"
   }
  }
 },
 "nbformat": 4,
 "nbformat_minor": 2
}
