{
 "cells": [
  {
   "cell_type": "code",
   "execution_count": 1,
   "metadata": {},
   "outputs": [],
   "source": [
    "import sys\n",
    "sys.path.insert(1,'../models')\n",
    "sys.path.insert(2,'../features')\n",
    "import create_model\n",
    "import build_features\n",
    "import pandas as pd\n",
    "import numpy as np\n",
    "import math\n",
    "import statistics\n",
    "import csv\n",
    "from sklearn.feature_selection import SelectKBest, f_regression"
   ]
  },
  {
   "cell_type": "code",
   "execution_count": 2,
   "metadata": {},
   "outputs": [
    {
     "data": {
      "text/html": [
       "<div>\n",
       "<style scoped>\n",
       "    .dataframe tbody tr th:only-of-type {\n",
       "        vertical-align: middle;\n",
       "    }\n",
       "\n",
       "    .dataframe tbody tr th {\n",
       "        vertical-align: top;\n",
       "    }\n",
       "\n",
       "    .dataframe thead th {\n",
       "        text-align: right;\n",
       "    }\n",
       "</style>\n",
       "<table border=\"1\" class=\"dataframe\">\n",
       "  <thead>\n",
       "    <tr style=\"text-align: right;\">\n",
       "      <th></th>\n",
       "      <th>Unnamed: 0</th>\n",
       "      <th>id</th>\n",
       "      <th>Player</th>\n",
       "      <th>Tm</th>\n",
       "      <th>Age</th>\n",
       "      <th>Pos</th>\n",
       "      <th>G</th>\n",
       "      <th>GS</th>\n",
       "      <th>QBrec</th>\n",
       "      <th>Cmp</th>\n",
       "      <th>...</th>\n",
       "      <th>Y/G</th>\n",
       "      <th>Rate</th>\n",
       "      <th>QBR</th>\n",
       "      <th>Sk</th>\n",
       "      <th>Yds.1</th>\n",
       "      <th>Sk%</th>\n",
       "      <th>NY/A</th>\n",
       "      <th>ANY/A</th>\n",
       "      <th>Cmp/G</th>\n",
       "      <th>Att/G</th>\n",
       "    </tr>\n",
       "  </thead>\n",
       "  <tbody>\n",
       "    <tr>\n",
       "      <th>0</th>\n",
       "      <td>0</td>\n",
       "      <td>AlleBr00</td>\n",
       "      <td>Brandon Allen</td>\n",
       "      <td>DEN</td>\n",
       "      <td>27</td>\n",
       "      <td>QB</td>\n",
       "      <td>3</td>\n",
       "      <td>3</td>\n",
       "      <td>1-2-0</td>\n",
       "      <td>39</td>\n",
       "      <td>...</td>\n",
       "      <td>171.7</td>\n",
       "      <td>68.3</td>\n",
       "      <td>40.1</td>\n",
       "      <td>9</td>\n",
       "      <td>59</td>\n",
       "      <td>9.7</td>\n",
       "      <td>4.90</td>\n",
       "      <td>4.58</td>\n",
       "      <td>13.0</td>\n",
       "      <td>28.0</td>\n",
       "    </tr>\n",
       "    <tr>\n",
       "      <th>1</th>\n",
       "      <td>1</td>\n",
       "      <td>AlleBr00</td>\n",
       "      <td>Brandon Allen</td>\n",
       "      <td>CIN</td>\n",
       "      <td>28</td>\n",
       "      <td>QB</td>\n",
       "      <td>5</td>\n",
       "      <td>5</td>\n",
       "      <td>1-4-0</td>\n",
       "      <td>90</td>\n",
       "      <td>...</td>\n",
       "      <td>185.0</td>\n",
       "      <td>82.0</td>\n",
       "      <td>37.5</td>\n",
       "      <td>7</td>\n",
       "      <td>51</td>\n",
       "      <td>4.7</td>\n",
       "      <td>5.87</td>\n",
       "      <td>5.33</td>\n",
       "      <td>18.0</td>\n",
       "      <td>28.4</td>\n",
       "    </tr>\n",
       "    <tr>\n",
       "      <th>2</th>\n",
       "      <td>2</td>\n",
       "      <td>AlleBr00</td>\n",
       "      <td>Brandon Allen</td>\n",
       "      <td>NaN</td>\n",
       "      <td>29</td>\n",
       "      <td>QB</td>\n",
       "      <td>6</td>\n",
       "      <td>1</td>\n",
       "      <td>0-1-0</td>\n",
       "      <td>17</td>\n",
       "      <td>...</td>\n",
       "      <td>24.8</td>\n",
       "      <td>81.6</td>\n",
       "      <td>8.4</td>\n",
       "      <td>4</td>\n",
       "      <td>33</td>\n",
       "      <td>10.5</td>\n",
       "      <td>3.05</td>\n",
       "      <td>4.11</td>\n",
       "      <td>2.8</td>\n",
       "      <td>5.7</td>\n",
       "    </tr>\n",
       "    <tr>\n",
       "      <th>3</th>\n",
       "      <td>3</td>\n",
       "      <td>AlleJo02</td>\n",
       "      <td>Josh Allen</td>\n",
       "      <td>BUF</td>\n",
       "      <td>22</td>\n",
       "      <td>QB</td>\n",
       "      <td>12</td>\n",
       "      <td>11</td>\n",
       "      <td>5-6-0</td>\n",
       "      <td>169</td>\n",
       "      <td>...</td>\n",
       "      <td>172.8</td>\n",
       "      <td>67.9</td>\n",
       "      <td>49.8</td>\n",
       "      <td>28</td>\n",
       "      <td>213</td>\n",
       "      <td>8.0</td>\n",
       "      <td>5.35</td>\n",
       "      <td>4.37</td>\n",
       "      <td>14.1</td>\n",
       "      <td>26.7</td>\n",
       "    </tr>\n",
       "    <tr>\n",
       "      <th>4</th>\n",
       "      <td>4</td>\n",
       "      <td>AlleJo02</td>\n",
       "      <td>Josh Allen</td>\n",
       "      <td>BUF</td>\n",
       "      <td>23</td>\n",
       "      <td>QB</td>\n",
       "      <td>16</td>\n",
       "      <td>16</td>\n",
       "      <td>10-6-0</td>\n",
       "      <td>271</td>\n",
       "      <td>...</td>\n",
       "      <td>193.1</td>\n",
       "      <td>85.3</td>\n",
       "      <td>49.4</td>\n",
       "      <td>38</td>\n",
       "      <td>237</td>\n",
       "      <td>7.6</td>\n",
       "      <td>5.72</td>\n",
       "      <td>5.71</td>\n",
       "      <td>16.9</td>\n",
       "      <td>28.8</td>\n",
       "    </tr>\n",
       "  </tbody>\n",
       "</table>\n",
       "<p>5 rows × 30 columns</p>\n",
       "</div>"
      ],
      "text/plain": [
       "   Unnamed: 0        id         Player   Tm  Age Pos   G  GS   QBrec  Cmp  \\\n",
       "0           0  AlleBr00  Brandon Allen  DEN   27  QB   3   3   1-2-0   39   \n",
       "1           1  AlleBr00  Brandon Allen  CIN   28  QB   5   5   1-4-0   90   \n",
       "2           2  AlleBr00  Brandon Allen  NaN   29  QB   6   1   0-1-0   17   \n",
       "3           3  AlleJo02     Josh Allen  BUF   22  QB  12  11   5-6-0  169   \n",
       "4           4  AlleJo02     Josh Allen  BUF   23  QB  16  16  10-6-0  271   \n",
       "\n",
       "   ...    Y/G  Rate   QBR  Sk  Yds.1   Sk%  NY/A  ANY/A  Cmp/G  Att/G  \n",
       "0  ...  171.7  68.3  40.1   9     59   9.7  4.90   4.58   13.0   28.0  \n",
       "1  ...  185.0  82.0  37.5   7     51   4.7  5.87   5.33   18.0   28.4  \n",
       "2  ...   24.8  81.6   8.4   4     33  10.5  3.05   4.11    2.8    5.7  \n",
       "3  ...  172.8  67.9  49.8  28    213   8.0  5.35   4.37   14.1   26.7  \n",
       "4  ...  193.1  85.3  49.4  38    237   7.6  5.72   5.71   16.9   28.8  \n",
       "\n",
       "[5 rows x 30 columns]"
      ]
     },
     "execution_count": 2,
     "metadata": {},
     "output_type": "execute_result"
    }
   ],
   "source": [
    "data = pd.read_csv(\"../../data/processed/passing.csv\")\n",
    "data.head()"
   ]
  },
  {
   "cell_type": "code",
   "execution_count": 3,
   "metadata": {},
   "outputs": [],
   "source": [
    "# Get all player ids\n",
    "players = data.id.unique()"
   ]
  },
  {
   "cell_type": "code",
   "execution_count": 4,
   "metadata": {
    "scrolled": true
   },
   "outputs": [],
   "source": [
    "# For each receiver\n",
    "offense_type = \"passing\"\n",
    "yards_error = []\n",
    "td_error = []\n",
    "non_rookies = []\n",
    "yards = []\n",
    "tds = []\n",
    "for player in players:\n",
    "    # Get their career data\n",
    "    career_data = build_features.get_model_data(offense_type,player)\n",
    "    if isinstance(career_data,str):\n",
    "        continue\n",
    "    non_rookies.append(player)\n",
    "    \n",
    "    # Split data into training and testing data\n",
    "    numberOfYears = len(career_data.index)\n",
    "    training_data = career_data.iloc[0:numberOfYears-1]\n",
    "    testing_data = career_data.iloc[numberOfYears-1]\n",
    "    \n",
    "    # Prepare training data\n",
    "    #X_train = training_data[[\"GS\",\"Cmp\",\"Att\",\"Cmp%\",\"TD%\",\"Y/A\",\"AY/A\",\"Y/C\",\"Y/G\",\"Rate\",\"QBR\",\"NY/A\",\"ANY/A\",\"Cmp/G\",\"Att/G\"]]\n",
    "    X_train = training_data[[\"GS\", \"Cmp\", \"Att\", \"TD%\", \"Y/C\", \"Y/G\", \"Cmp/G\", \"Att/G\"]]\n",
    "    y_train = training_data[[\"Yds\",\"TD\"]]\n",
    "\n",
    "    # Prepare testing data\n",
    "    X_test = testing_data[[\"GS\", \"Cmp\", \"Att\", \"TD%\", \"Y/C\", \"Y/G\", \"Cmp/G\", \"Att/G\"]]\n",
    "    X_test = np.asarray(X_test)\n",
    "    X_test = X_test.reshape(-1,8)\n",
    "    \n",
    "    y_test = testing_data[[\"Yds\",\"TD\"]]\n",
    "    y_test = np.asarray(y_test)\n",
    "    y_test = y_test.reshape(-1,2)\n",
    "    \n",
    "    mdl = create_model.create_model(X_train,y_train)\n",
    "    \n",
    "    # Make prediction on model\n",
    "    y_pred = mdl.predict(X_test)\n",
    "    yards.append(y_pred[0][0])\n",
    "    tds.append(y_pred[0][1])\n",
    "    \n",
    "    try:\n",
    "        yards_error.append((abs(math.floor(round(y_pred[0][0]) - y_test[0][0]))/math.floor(y_test[0][0]))*100)\n",
    "    except ZeroDivisionError:\n",
    "        yards_error.append(0)\n",
    "    \n",
    "    try:\n",
    "        td_error.append((abs(math.floor(round(y_pred[0][1]) - y_test[0][1]))/math.floor(y_test[0][1]))*100)\n",
    "    except ZeroDivisionError:\n",
    "        td_error.append(0)\n",
    "    "
   ]
  },
  {
   "cell_type": "code",
   "execution_count": 5,
   "metadata": {
    "scrolled": true
   },
   "outputs": [
    {
     "name": "stdout",
     "output_type": "stream",
     "text": [
      "524.5190521475283\n"
     ]
    }
   ],
   "source": [
    "print(statistics.mean(yards_error))"
   ]
  },
  {
   "cell_type": "code",
   "execution_count": 6,
   "metadata": {},
   "outputs": [
    {
     "name": "stdout",
     "output_type": "stream",
     "text": [
      "335.8265340083663\n"
     ]
    }
   ],
   "source": [
    "print(statistics.mean(td_error))"
   ]
  },
  {
   "cell_type": "code",
   "execution_count": 7,
   "metadata": {},
   "outputs": [],
   "source": [
    "# Write data to csv file for further processing\n",
    "filename = \"../../data/predictions/passing.csv\"\n",
    "f = open(filename,'w')\n",
    "writer = csv.writer(f)\n",
    "for i in range(len(non_rookies)):\n",
    "    writer.writerow([non_rookies[i],yards[i],tds[i]])"
   ]
  },
  {
   "cell_type": "code",
   "execution_count": 9,
   "metadata": {},
   "outputs": [],
   "source": [
    "# Write data to csv file for further processing\n",
    "filename = \"../../data/predictions/error_passing.csv\"\n",
    "f = open(filename,'w')\n",
    "writer = csv.writer(f)\n",
    "for i in range(len(non_rookies)):\n",
    "    writer.writerow([non_rookies[i],yards_error[i],td_error[i]])"
   ]
  },
  {
   "cell_type": "markdown",
   "metadata": {},
   "source": [
    "### Feature Selection Testing"
   ]
  },
  {
   "cell_type": "code",
   "execution_count": 32,
   "metadata": {
    "scrolled": true
   },
   "outputs": [
    {
     "data": {
      "text/plain": [
       "SelectKBest(k=8, score_func=<function f_regression at 0x7fd490efc3a0>)"
      ]
     },
     "execution_count": 32,
     "metadata": {},
     "output_type": "execute_result"
    }
   ],
   "source": [
    "X_train = training_data[[\"GS\",\"Cmp\",\"Att\",\"Cmp%\",\"TD%\",\"Y/A\",\"AY/A\",\"Y/C\",\"Y/G\",\"Rate\",\"QBR\",\"NY/A\",\"ANY/A\",\"Cmp/G\",\"Att/G\"]]\n",
    "selector = SelectKBest(f_regression,k=8)\n",
    "y_train = training_data[\"Yds\"]\n",
    "selector.fit(X_train,y_train)"
   ]
  },
  {
   "cell_type": "code",
   "execution_count": 33,
   "metadata": {},
   "outputs": [
    {
     "name": "stdout",
     "output_type": "stream",
     "text": [
      "[ True  True  True False  True False False  True  True False False False\n",
      " False  True  True]\n"
     ]
    }
   ],
   "source": [
    "print(selector.get_support())"
   ]
  },
  {
   "cell_type": "code",
   "execution_count": 34,
   "metadata": {},
   "outputs": [
    {
     "name": "stdout",
     "output_type": "stream",
     "text": [
      "Index(['GS', 'Cmp', 'Att', 'TD%', 'Y/C', 'Y/G', 'Cmp/G', 'Att/G'], dtype='object')\n"
     ]
    }
   ],
   "source": [
    "print(X_train.columns[selector.get_support()])"
   ]
  },
  {
   "cell_type": "code",
   "execution_count": 35,
   "metadata": {},
   "outputs": [
    {
     "data": {
      "text/plain": [
       "SelectKBest(k=8, score_func=<function f_regression at 0x7fd490efc3a0>)"
      ]
     },
     "execution_count": 35,
     "metadata": {},
     "output_type": "execute_result"
    }
   ],
   "source": [
    "X_train = training_data[[\"GS\",\"Cmp\",\"Att\",\"Cmp%\",\"TD%\",\"Y/A\",\"AY/A\",\"Y/C\",\"Y/G\",\"Rate\",\"QBR\",\"NY/A\",\"ANY/A\",\"Cmp/G\",\"Att/G\"]]\n",
    "selector = SelectKBest(f_regression,k=8)\n",
    "y_train = training_data[\"TD\"]\n",
    "selector.fit(X_train,y_train)"
   ]
  },
  {
   "cell_type": "code",
   "execution_count": 36,
   "metadata": {},
   "outputs": [
    {
     "name": "stdout",
     "output_type": "stream",
     "text": [
      "[ True  True  True False  True False False  True  True False False False\n",
      " False  True  True]\n"
     ]
    }
   ],
   "source": [
    "print(selector.get_support())"
   ]
  },
  {
   "cell_type": "code",
   "execution_count": 37,
   "metadata": {},
   "outputs": [
    {
     "name": "stdout",
     "output_type": "stream",
     "text": [
      "Index(['GS', 'Cmp', 'Att', 'TD%', 'Y/C', 'Y/G', 'Cmp/G', 'Att/G'], dtype='object')\n"
     ]
    }
   ],
   "source": [
    "print(X_train.columns[selector.get_support()])"
   ]
  }
 ],
 "metadata": {
  "kernelspec": {
   "display_name": "Python 3 (ipykernel)",
   "language": "python",
   "name": "python3"
  },
  "language_info": {
   "codemirror_mode": {
    "name": "ipython",
    "version": 3
   },
   "file_extension": ".py",
   "mimetype": "text/x-python",
   "name": "python",
   "nbconvert_exporter": "python",
   "pygments_lexer": "ipython3",
   "version": "3.9.7"
  },
  "vscode": {
   "interpreter": {
    "hash": "1a1af0ee75eeea9e2e1ee996c87e7a2b11a0bebd85af04bb136d915cefc0abce"
   }
  }
 },
 "nbformat": 4,
 "nbformat_minor": 2
}
